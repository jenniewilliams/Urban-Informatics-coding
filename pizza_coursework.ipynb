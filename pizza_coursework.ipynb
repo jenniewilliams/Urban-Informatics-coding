{
 "cells": [
  {
   "cell_type": "code",
   "execution_count": null,
   "metadata": {},
   "outputs": [],
   "source": [
    "Jennie Williams 1769227"
   ]
  },
  {
   "cell_type": "markdown",
   "metadata": {},
   "source": [
    "# Coursework Assignment  \n",
    "# DUE on KEATS on Sunday 9th of December, by 2355 (GMT)"
   ]
  },
  {
   "cell_type": "markdown",
   "metadata": {},
   "source": [
    "- This is worth 10% of your final grade\n",
    "- There are five parts to this assignment and the breakdown of the points is at the end of this document.\n",
    "- You should complete the answer cells in this iPython notebook (.ipynb), and submit the completed notebook on Keats.\n",
    "- Use the specified file names for each of the scripts - marks will be deducted for not following these instructions\n",
    "- You must do and submit your own work, there is no collaborating and no group work allowed on this module.\n",
    "- Make sure that you properly comment your code, so that the person marking this can understand what your program is doing. Uncommented or poorly commented code will result in mark deductions\n",
    "\n",
    "Notes: \n",
    "1. For each of the below questions, please provide code in the indicated cells. \n",
    "2. Read over the coursework instructions fully before starting. Please read each Part carefully, as there may be multiple subquestions contained within each Part."
   ]
  },
  {
   "cell_type": "markdown",
   "metadata": {},
   "source": [
    "# The Data\n",
    "\n",
    "The data for this assignment is on Keats as a .zip file. Download the .zip file and unpack it to a **data/** directory. The **data/** directory should be in the same directory as your python scripts.\n",
    "\n",
    "(In spyder make sure the environment is pointing to this directory). Make sure that your python\n",
    "scripts read input data files and write output data files to the **data/** directory. Any files that are\n",
    "output elsewhere will not be graded\n",
    "\n",
    "# Overview\n",
    "\n",
    "This coursework will have you working with XML, CSV, and JSON files with data related to a Pizza Shop! Your scripts will read and write data files, and a set of sample of input and output files are provided for you as an example of the format of the expected output."
   ]
  },
  {
   "cell_type": "markdown",
   "metadata": {},
   "source": [
    "## Part 1: Pizza Menu"
   ]
  },
  {
   "cell_type": "markdown",
   "metadata": {},
   "source": [
    "The \"CMP Pizza Shop\", has menu options stored in an XML data file, called **pizza.xml**. You will find the menu in the **pizza.xml** file in the **data.zip** provided with this Coursework.\n",
    "\n",
    "The **pizza.xml** file includes the following information:\n",
    "\n",
    "- the name of the pizza shop\n",
    "- the sizes of the pizzas\n",
    "- the toppings available\n",
    "- the different crusts\n",
    "\n",
    "Here is an example menu in xml, for illustrative purposes (note that the pizza.xml file provided in the data.zip archive, might be different from this example):\n",
    "\n",
    "    <pizza>\n",
    "    \t<shopname>CMP Pizza Shop</shopname>\n",
    "    \t<sizes>\n",
    "    \t\t<size code=\"L\">Large</size>\n",
    "    \t\t<size code=\"XL\">Extra Large</size>\n",
    "    \t</sizes>\n",
    "    \t<toppings>\n",
    "    \t\t<topping code=\"x\">Extra Cheese</topping>\n",
    "    \t\t<topping code=\"m\">Mushrooms</topping>\n",
    "    \t</toppings>\n",
    "    \t<crusts>\n",
    "    \t\t<crust code=\"thick\">Thick Crust</crust>\n",
    "    \t</crusts>\n",
    "    </pizza>\n",
    "\n",
    "### Question 1 (a)\n",
    "\n",
    "Write python code in the below indicated cell, that reads in the **pizza.xml** file (located in data.zip), as an input using **xml.etree.ElementTree module**. (See lecture 2 and lab 2). Make sure you implement exception handling.\n",
    "\n",
    "### Question 1 (b)\n",
    "\n",
    "Using the ElementTree structure, print a human readable menu of pizza options for the pizza shop. This must include the pizza shop name, the pizza sizes, toppings, and crust options. For example, a human readable menu might look like the below:\n",
    "\n",
    "        CMP Pizza Shop\n",
    "        Sizes\n",
    "        - Large\n",
    "        - Extra Large\n",
    "\n",
    "        Toppings\n",
    "        - Extra Cheese\n",
    "        - Mushrooms\n",
    "\n",
    "        Crusts\n",
    "        - Thick Crust\n"
   ]
  },
  {
   "cell_type": "code",
   "execution_count": 1,
   "metadata": {},
   "outputs": [
    {
     "name": "stdout",
     "output_type": "stream",
     "text": [
      "Welcome to CMP Pizza Shop ...the best pizza in town!\n",
      " \n",
      "Select from our sizes :\n",
      "  - Extra Small\n",
      "  - Small\n",
      "  - Medium\n",
      "  - Large\n",
      "  - Extra Large\n",
      " \n",
      "Select from our toppings :\n",
      "  - Chilli\n",
      "  - Mushrooms\n",
      "  - Extra Cheese\n",
      " \n",
      "Select from our crusts :\n",
      "  - Thin Crust\n",
      "  - Thick Crust\n",
      "  - Cheesy Crust\n",
      "  - Tomato Crust\n"
     ]
    }
   ],
   "source": [
    "\"\"\"\n",
    "Answer 1(a):\n",
    " reads in the pizza.xml file, with exception handling\n",
    "\"\"\"\n",
    "import xml.etree.ElementTree as et\n",
    "try:\n",
    "    tree = et.ElementTree(file=\"data/pizza.xml\")\n",
    "    root = tree.getroot()\n",
    "except Exception as e:\n",
    "    print (\"Error %s\" % e)\n",
    "\"\"\"\n",
    "Answer 1(b):\n",
    "\n",
    "produce the menu\n",
    "\n",
    "\"\"\"\n",
    "# start with the header\n",
    "shop = root.find(\"./shopname\")\n",
    "print (\"Welcome to \"+ shop.text+\" ...the best pizza in town!\")\n",
    "\n",
    "#create a function to print out the pizza elements\n",
    "def menu(item):\n",
    "    print (\" \")\n",
    "    items=item+\"s\"\n",
    "    x_e = root.find(items)\n",
    "    print (\"Select from our %s :\") % (x_e.tag)\n",
    "\n",
    "    xl = x_e.findall(item)\n",
    "\n",
    "    for s in xl:\n",
    "        print(\"  - %s\" % s.text)\n",
    "        \n",
    "#run the menu function to print out sizes    \n",
    "menu(\"size\")\n",
    "\n",
    "#run the menu function to print out toppings    \n",
    "menu(\"topping\")\n",
    "\n",
    "#run the menu function to print out crusts    \n",
    "menu(\"crust\")"
   ]
  },
  {
   "cell_type": "markdown",
   "metadata": {},
   "source": [
    "## Part 2: Pizza Report"
   ]
  },
  {
   "cell_type": "markdown",
   "metadata": {},
   "source": [
    "Using the datastructure created in **Part 1** of this coursework, write a program in the below indicated space that calculates the following:\n",
    "\n",
    "### Question 2 (a)\n",
    "\n",
    "1. The number of pizza sizes that are available from our pizza menu\n",
    "2. The number of toppings that are available in the pizza menu\n",
    "3. The number of crust options available in the pizza menu\n",
    "4. The total number of combinations of **different** pizzas that can be assembled from this menu. \n",
    "\n",
    "Assume the following about each pizza:\n",
    "\t\n",
    "- a pizza can only be one size (one pizza cannot be large and extra large at the same time)\n",
    "- a pizza can have any combinations of toppings, including none, one or all\n",
    "- a pizza can only have one type of crust (i.e. either thick or thin crust)\n",
    "\n",
    "Print the output of each calculation, along with a string denoting the value. For example\n",
    "\n",
    "    Number of pizza sizes = 2\n",
    "    Number of toppings = ...\n",
    "    ...\n",
    "\n",
    "### Question 2 (b)\n",
    "\n",
    "After printing these calculations, use the python CSV module to output your calculations as a single row of data to a CSV file with the name **pizza_report.csv**. Assume the following header for your CSV file along with the calculated numbers from the previous example:\n",
    "\n",
    "    sizes,toppings,crusts,total_combo  \n",
    "\n",
    "### Question 2 (c)\n",
    "\n",
    "After writing the report, re-open the file **pizza_report.csv**, and print each line of the file to the notebook."
   ]
  },
  {
   "cell_type": "code",
   "execution_count": 2,
   "metadata": {},
   "outputs": [
    {
     "name": "stdout",
     "output_type": "stream",
     "text": [
      " \n",
      "Number of pizza sizes is 5.\n",
      " \n",
      "Number of pizza topping choices is 3.\n",
      " \n",
      "Number of pizza crust options available is 4.\n",
      " \n",
      "Total number of combinations of different pizzas: 160\n",
      "\n",
      "\n",
      "\n",
      "Number of pizza sizes is 5. \n",
      "\n",
      "Number of pizza topping choices is 3. \n",
      "\n",
      "Number of pizza crust options available is 4. \n",
      "\n",
      "Total number of combinations of different pizzas: 160. \n",
      "\n"
     ]
    }
   ],
   "source": [
    "\"\"\"\n",
    "Answer 2(a):\n",
    " printing out the choices\n",
    "\"\"\"\n",
    "def numbers(item, xlab):\n",
    "    print (\" \")\n",
    "    x_e = root.find(item)\n",
    "    print (xlab + \" %s.\") % len(x_e)\n",
    "        \n",
    "numbers(\"sizes\",\"Number of pizza sizes is\")\n",
    "numbers(\"toppings\",\"Number of pizza topping choices is\")\n",
    "numbers(\"crusts\",\"Number of pizza crust options available is\")\n",
    "\n",
    "#The total number of combinations of different pizzas that can be assembled from this menu.\n",
    "\n",
    "x = root.find(\"sizes\")\n",
    "y = root.find(\"toppings\")\n",
    "z = root.find(\"crusts\")\n",
    "\n",
    "fact=1\n",
    "#multi=len(y)+1\n",
    "#print multi\n",
    "#for k in range(1,multi):\n",
    "#    fact = fact*k\n",
    "#add an extra one for no toppings\n",
    "#fact+=1\n",
    "#add an extra one for 3 toppings\n",
    "#fact+=1\n",
    "\n",
    "import math\n",
    "#initialise no.of topping combinations to 0\n",
    "xfact=0\n",
    "# calculate the number of toppings combinations as sum of  nCr = n!/r!(n-r)!\n",
    "n=len(y)\n",
    "for r in range(n+1):\n",
    "    xfact += math.factorial(n)/(math.factorial(r)*math.factorial(n-r))\n",
    "comb = len(x) * xfact * len(z)\n",
    "\n",
    "print (\" \")\n",
    "\n",
    "print (\"Total number of combinations of different pizzas: %d\" % comb)\n",
    "\n",
    "\"\"\"\n",
    "Answer 2(b):\n",
    " output calculations to csv\n",
    "\"\"\"\n",
    "import csv\n",
    "try:\n",
    "    with open('data/pizza_report.csv', 'w+') as f:\n",
    "        writer = csv.writer(f)\n",
    "        writer.writerow(('sizes','toppings','crusts','total_combo'))\n",
    "        writer.writerow((len(x),len(y),len(z),comb))\n",
    "        \n",
    "except IOError as ioe:\n",
    "        print(\"I/O Error occurred: %s\" % ioe)\n",
    "\"\"\"\n",
    "Print out Pizza Report from the file:\n",
    "\"\"\"\n",
    "\n",
    "print (\"\\n\\n\")\n",
    "\n",
    "\n",
    "try:\n",
    "    with open(\"data/pizza_report.csv\", \"r\") as fpizza:\n",
    "            reader = csv.DictReader(fpizza)\n",
    "            for row in reader:\n",
    "                print(\"Number of pizza sizes is %s. \\n\" % row['sizes'])\n",
    "                print(\"Number of pizza topping choices is %s. \\n\" % row['toppings'])\n",
    "                print(\"Number of pizza crust options available is %s. \\n\" % row['crusts'])\n",
    "                print(\"Total number of combinations of different pizzas: %s. \\n\" % row['total_combo'])\n",
    "\n",
    "\n",
    "except IOError as ioe:\n",
    "        print(\"I/O Error occurred: %s\" % ioe)\n"
   ]
  },
  {
   "cell_type": "markdown",
   "metadata": {},
   "source": [
    "## Part 3: Pizza Specials\n"
   ]
  },
  {
   "cell_type": "markdown",
   "metadata": {},
   "source": [
    "In addition to the standard menu, the CMP pizza shop also stores **Pizza Specials** in a file **pizza_specials.csv**, with the following format:\n",
    "\n",
    "    name,size,toppings,crust  \n",
    "    Supreme,XL,xm,thick  \n",
    "    Simple Cheese,L,x,thick\n",
    "\n",
    "\n",
    "Every pizza special has a name, a size, a combination of toppings, and a crust. The size, toppings, and crust are referenced by a code attribute, which is specified in the pizza.xml XML file. For example, the topping code for Mushrooms is \"m\", and the topping code for Extra Cheese is \"x\". The Supreme pizza has both Mushrooms and Extra Cheese as designated by the string \"xm\". \n",
    "\n",
    "### Part 3 (a)\n",
    "\n",
    "Write code in the answer cell below, that reads in the pizza.xml file (again using the xml.etree.ElementTree module) and stores the sizes, toppings, and crusts in dictionaries with the code for that element as the key and the text for the element as the value.\n",
    "\n",
    "### Part 3 (b)\n",
    "\n",
    "Using these dictionaries, read in the Pizza Specials from the pizza_specials.csv file and convert them to a menu text description. \n",
    "\n",
    "### Part 3 (c)\n",
    "\n",
    "Write code to output each special's menu description as a human readable line in a text file called **pizza_specials.txt**. For example, the Supreme special would be output in the txt file as:\n",
    "\n",
    "        Supreme: Extra Large Pizza with Extra Cheese and Mushrooms and Thick Crust \n",
    "   \n",
    "### Part 3 (d)\n",
    "\n",
    "After writing the pizza Specials, re-open the file **pizza_specials.txt**, and print each line of the file to the notebook."
   ]
  },
  {
   "cell_type": "code",
   "execution_count": 3,
   "metadata": {},
   "outputs": [
    {
     "name": "stdout",
     "output_type": "stream",
     "text": [
      "Supreme: Extra Large Pizza with Extra Cheese and Mushrooms and Thick Crust.\n",
      "\n",
      "Simple Cheese: Large Pizza with Extra Cheese and Thick Crust.\n",
      "\n"
     ]
    }
   ],
   "source": [
    "\"\"\"\n",
    "Answer 3(a):\n",
    "reads in the pizza.xml file, with exception handling, storing \n",
    "the elements in a dictionary, with the code for that element \n",
    "as the key and the text for the element as the value\n",
    "\"\"\"\n",
    "import xml.etree.ElementTree as et\n",
    "try:\n",
    "    tree = et.ElementTree(file=\"data/pizza.xml\")\n",
    "    root = tree.getroot()\n",
    "    pizzadict = []\n",
    "    for child in root:\n",
    "        d = {}\n",
    "        for grchild in child:\n",
    "            #key-value dict pairs\n",
    "            d[grchild.get(\"code\")]=grchild.text\n",
    "        pizzadict.append(d)\n",
    "#    print pizzadict\n",
    "        \n",
    "except Exception as e:\n",
    "    print (\"Error %s\" % e)\n",
    "\"\"\"\n",
    "Answer 3(b):\n",
    "reads in the pizza_specials.csv file, with exception handling, \n",
    "\n",
    "and \n",
    "\n",
    "Answer 3(c):\n",
    "output each special's menu description as a human readable line to a file\n",
    "\"\"\"\n",
    "try:\n",
    "    with open(\"data/pizza_specials.csv\", \"r\") as fs:\n",
    "        reader = csv.DictReader(fs)\n",
    "        dlist = pizzadict[2]\n",
    "        slist = pizzadict[1]\n",
    "        clist = pizzadict[3]\n",
    "        with open('data/pizza_specials.txt', 'w+') as g:\n",
    "            for row in reader:\n",
    "                keylist = list(row['toppings'])\n",
    "                sizechoice = row['size']\n",
    "                cruchoice = row['crust']\n",
    "                topvals = list()\n",
    "                k=0\n",
    "                for siz in slist:\n",
    "                    if siz in sizechoice:\n",
    "                        sptext=row['name']+\": \"+ slist.get(siz) + \" \"\n",
    "\n",
    "                for item in dlist:\n",
    "                    if item in keylist:\n",
    "                        if (k==0): \n",
    "                            sptext = sptext+\"Pizza with \"+dlist.get(item)\n",
    "                        else:\n",
    "                            sptext = sptext+\" and \"+dlist.get(item)\n",
    "                        topvals.append(dlist.get(item))\n",
    "                        k+=1\n",
    "                for cru in clist:\n",
    "                    if cru in cruchoice:\n",
    "                        sptext=sptext + \" and \"+clist.get(cru) + \".\"\n",
    "                g.write(sptext+\"\\n\")\n",
    "\n",
    "except IOError as ioe:\n",
    "        print(\"I/O Error occurred: %s\" % ioe)    \n",
    "\n",
    "\"\"\"\n",
    "Answer 3(d):\n",
    "reads in the pizza_specials.txt file and prints out the special pizzas \n",
    "\"\"\"        \n",
    "try:\n",
    "    with open(\"data/pizza_specials.txt\", \"r\") as fsp:\n",
    "            for row in fsp:\n",
    "                print(row)\n",
    "\n",
    "\n",
    "except IOError as ioe:\n",
    "        print(\"I/O Error occurred: %s\" % ioe)\n",
    "\n"
   ]
  },
  {
   "cell_type": "markdown",
   "metadata": {},
   "source": [
    "## Part 4: Pizza Decider\n"
   ]
  },
  {
   "cell_type": "markdown",
   "metadata": {},
   "source": [
    "**Who should get a pizza?** \n",
    "\n",
    "This part of the coursework will use a data set collected from the Reddit group **\"Random Acts of Pizza\"** (https://www.reddit.com/r/Random_Acts_Of_Pizza/). Random Acts of Pizza is a community on the website Reddit.com that facilitates the sending and receiving of pizzas between strangers. People write a request for a pizza on the Reddit group and someone may accept their request and order them a pizza!\n",
    "\n",
    "(a version of this data is also available on Kaggle)\n",
    "\n",
    "A data set has been collated for the textual requests to this Reddit Group. A simplified excerpt of the requests to /r/Random_Acts_of_Pizza has been provided in the text file **random_acts_pizza.csv**. There are 4 columns in this CSV file:\n",
    "\n",
    "- requester_username - the name of the user requesting pizza\n",
    "- request_text - the text of the pizza request written by the user\n",
    "- requester_received_pizza - a Boolean whether or not the pizza request was accepted\n",
    "- requester_account_age_in_days_at_request - the age of the reddit user account, measured at the time the user made the request\n",
    "\n",
    "In this question, you will need to write code that will use this the random_acts_pizza.csv file to automate the decision as to whether a new request for pizza should be accepted or not.\n",
    "\n",
    "### Part 4 (a)\n",
    "\n",
    "Using the csv python module, read in the \"Random Acts of Pizza\" request history that is contained in the **random_acts_pizza.csv** file.  Add a class called PizzaDecider to your program, which uses the request history to output a boolean value, deciding whether or not a new request for pizza should be accepted. This decision is based according to the following criteria:\n",
    "\n",
    "1) The user requesting a new pizza (identified by their username) has **not previously received** a pizza from the \"Random Acts of Pizza\" group.\n",
    "2) The text of the user's pizza request is longer than **400 characters** in length.\n",
    "\n",
    "### Part 4 (b)\n",
    "\n",
    "After you have created the PizzaDecider class, use the json python module to have your program read in a file called pizza_request.json, which contains one request for pizza. The request file is a dictionary which has two keys:  \n",
    "-- requester_username - the name of the user requesting pizza\n",
    "-- request_text - the text of the pizza request written by the user\n",
    "\n",
    "For an example pizza request see the file, **pizza_request.json** in the data.zip.\n",
    "\n",
    "Your program will pass the pizza request read in from the pizza_request.json file, to a method in the PizzaDecider class that will return a boolean whether or not the user should get a pizza according to the criteria above.\n",
    "\n",
    "### Part 4 (c)\n",
    "\n",
    "Your program should now write out the decision from the PizzaDecider to a new JSON file called pizza_decision.json which is a dictionary with the following keys: \n",
    "- requester_username - the name of the user requesting pizza\n",
    "- request_text - the text of the pizza request written by the user\n",
    "- receive_pizza - a Boolean, stating whether or not the pizza request should be accepted according to the criteria\n",
    "\n",
    "For an example of the expected output, see the file **pizza_decision.json** in the data.zip, for the pizza decision from the **pizza_request.json** example mentioned earlier.\n",
    "\n",
    "### Part 4 (d)\n",
    "Print to the notebook the decision for the user given in **pizza_decision.json**. For example,\n",
    "        \n",
    "        User: \"spez\" request for pizza should not be accepted."
   ]
  },
  {
   "cell_type": "code",
   "execution_count": 4,
   "metadata": {},
   "outputs": [
    {
     "name": "stdout",
     "output_type": "stream",
     "text": [
      "Request for a pizza from 'anyquestions' should be accepted, True or False? False\n"
     ]
    }
   ],
   "source": [
    "import json, csv\n",
    "\"\"\"\n",
    "use the registry of objects for looping through the random_acts_pizza object when\n",
    "comparing with the request, adjusting for the request at the end\n",
    "\"\"\"\n",
    "class PizzaDecider():\n",
    "    _registry = []\n",
    "    \n",
    "    def __init__(self, pizza_record):\n",
    "        self.user = pizza_record['requester_username']\n",
    "        self.rtext = pizza_record['request_text']\n",
    "        self._registry.append(self)\n",
    "                \n",
    "    # accept defines the criteria for accepting the pizza request\n",
    "    def accept(self, other_request):\n",
    "\n",
    "        self.pizzas = self\n",
    "        \n",
    "        #sendpizza is our boolean return variable, initially set to True, then False if\n",
    "        #the requester has already received a pizza or their text is <= 400 characters\n",
    "        sendpizza = True\n",
    "        \n",
    "        #set the end of the objecst loop, accounting for the request object with will also be registered\n",
    "        end=len(self.pizzas._registry)-2\n",
    "        start=0\n",
    "        for i in range(end):    \n",
    "            start+=1\n",
    "            if len(other_request.rtext) <= 400 or self.pizzas._registry[i].user == other_request.user:\n",
    "                    sendpizza = False\n",
    "        return sendpizza\n",
    "\n",
    "# read in the Random acts of pizza data and only keep the records of those who have received a pizza    \n",
    "with open(\"data/random_acts_pizza.csv\", \"r\") as fra:\n",
    "    pizza_requests = csv.DictReader(fra)\n",
    "    for m in pizza_requests:\n",
    "        if (m['requester_received_pizza']==\"TRUE\"):\n",
    "            #create a PizzaDecider object for the records kept\n",
    "            my_pizzas = PizzaDecider(m)\n",
    "\n",
    "# read in the pizza request json file, which contains 1 record\n",
    "with open(\"data/pizza_request.json\",\"r\") as pr_fd:\n",
    "    requests = json.load(pr_fd)\n",
    "    request_dict = dict(requests)\n",
    "    my_request = PizzaDecider(request_dict)\n",
    "    #process the boolean to see the answer to the request, put it in the dictionary\n",
    "    request_dict[\"receive_pizza\"]=PizzaDecider.accept(my_pizzas,my_request)\n",
    "try:\n",
    "    with open(\"data/pizza_decision.json\", 'w+') as f:\n",
    "        json.dump(request_dict,f)\n",
    "        \n",
    "except IOError as ioe:\n",
    "        print(\"Oh dear! I/O Error occurred: %s\" % ioe)\n",
    "\n",
    "print \"Request for a pizza from '%s' should be accepted, True or False? %s\" % (request_dict[\"requester_username\"],request_dict[\"receive_pizza\"])\n",
    "\n"
   ]
  },
  {
   "cell_type": "markdown",
   "metadata": {},
   "source": [
    "## Part 5: Visualing Pizza data\n",
    "\n",
    "For this final part of the coursework, you will use statistical visualisation techniques you have covered in the module, to help explore the data. This question will use the **random_acts_pizza.csv** file from the previous question.\n",
    "\n",
    "\n",
    "Using the **random_acts_pizza.csv** file, create a figure containing a subplot, with two rows, and two columns. Plot the following diagrams from the **seaborn** library in the subplots.\n",
    "1. A distplot of the account age at the time of request (**requester_account_age_in_days_at_request**) \n",
    "2. A boxplot, where the x-axis (the catagory) is if the request was fullfilled or not (**requester_received_pizza**), and the y-axis is the lenth of the request string (the length of **request_text**)\n",
    "3. A violin plot, where the x-axis (the catagory) is if the request was fullfilled or not (**requester_received_pizza**), and the y-axis is the number of times the string **pizza** is counted in **request_text**\n",
    "4. A 2D scatterplot, where the x-axis is the account age, the y-axis is the length of the request, and the marker color if different depending on if the request was fullfilled (**requester_received_pizza**)\n",
    "\n",
    "Remember to label axes, and choose appropriate informative titles for the plots."
   ]
  },
  {
   "cell_type": "code",
   "execution_count": 11,
   "metadata": {},
   "outputs": [
    {
     "data": {
      "text/plain": [
       "Text(0,0.5,'F(x)')"
      ]
     },
     "execution_count": 11,
     "metadata": {},
     "output_type": "execute_result"
    },
    {
     "data": {
      "image/png": "[encoded data removed]",
      "text/plain": [
       "<Figure size 432x288 with 1 Axes>"
      ]
     },
     "metadata": {},
     "output_type": "display_data"
    }
   ],
   "source": [
    "import matplotlib as plt\n",
    "import seaborn as sns\n",
    "import pandas as pd\n",
    "%matplotlib inline\n",
    "\n",
    "df = pd.read_csv('data/random_acts_pizza.csv',header=0,sep=',')\n",
    "#df = sns.load_dataset('data/random_acts_pizza.csv')\n",
    "sns.set(style=\"whitegrid\")\n",
    "sns.set_context(\"notebook\")\n",
    "\n",
    "# A distplot of the account age at the time of request \n",
    "# (requester_account_age_in_days_at_request)\n",
    "ax = sns.distplot(df.requester_account_age_in_days_at_request, bins=20, \n",
    "                  kde=False, rug=True, color = 'blue', hist_kws={'edgecolor':'black'})\n",
    "\n",
    "# Add title & labels\n",
    "ax.set_title(\"Distribution of requester account age at time of request.\")\n",
    "ax.set_xlabel(\"Account Age (days)\")\n",
    "ax.set_ylabel(\"F(x)\")"
   ]
  },
  {
   "cell_type": "code",
   "execution_count": 15,
   "metadata": {},
   "outputs": [
    {
     "data": {
      "text/plain": [
       "Text(0,0.5,'Text Length')"
      ]
     },
     "execution_count": 15,
     "metadata": {},
     "output_type": "execute_result"
    },
    {
     "data": {
      "image/png": "[encoded data removed]",
      "text/plain": [
       "<Figure size 432x288 with 1 Axes>"
      ]
     },
     "metadata": {},
     "output_type": "display_data"
    }
   ],
   "source": [
    "# A boxplot, where the x-axis (the catagory) is if the request was fullfilled \n",
    "# or not (requester_received_pizza), and the y-axis is the lenth of the request \n",
    "# string (the length of request_text)\n",
    "\n",
    "# calculate a variable which is the length of the request_text\n",
    "df['textlen']=df['request_text'].str.len()\n",
    "\n",
    "# create the boxplot\n",
    "bplot = sns.boxplot(y='textlen',x='requester_received_pizza',data=df)\n",
    "\n",
    "# set titles and labels\n",
    "bplot.set_title(\"Boxplot of requestor receiving a pizza vs length of text.\")\n",
    "bplot.set_xlabel(\"Requestor received a pizza?\")\n",
    "bplot.set_ylabel(\"Text Length\")"
   ]
  },
  {
   "cell_type": "code",
   "execution_count": 16,
   "metadata": {},
   "outputs": [
    {
     "data": {
      "text/plain": [
       "Text(0,0.5,\"Count of the word 'pizza' in text\")"
      ]
     },
     "execution_count": 16,
     "metadata": {},
     "output_type": "execute_result"
    },
    {
     "data": {
      "image/png": "[encoded data removed]",
      "text/plain": [
       "<Figure size 432x288 with 1 Axes>"
      ]
     },
     "metadata": {},
     "output_type": "display_data"
    }
   ],
   "source": [
    "# A violin plot, where the x-axis (the catagory) is if the request was fullfilled \n",
    "# or not (requester_received_pizza), and the y-axis is the number of times the \n",
    "# string pizza is counted in request_text\n",
    "\n",
    "# create a variable to count the number of occurrences of 'pizza' in request_text\n",
    "df['pizzacnt']=df['request_text'].str.lower().str.count('pizza')\n",
    "vx = sns.violinplot(x=df.requester_received_pizza, y=df.pizzacnt)\n",
    "\n",
    "# set titles and labels\n",
    "vx.set_title(\"Violin Plot of requestor receiving a pizza vs 'pizza' in text.\")\n",
    "vx.set_xlabel(\"Requestor received a pizza?\")\n",
    "vx.set_ylabel(\"Count of the word 'pizza' in text\")"
   ]
  },
  {
   "cell_type": "code",
   "execution_count": 17,
   "metadata": {},
   "outputs": [
    {
     "data": {
      "text/plain": [
       "Text(0,0.5,'Text Length')"
      ]
     },
     "execution_count": 17,
     "metadata": {},
     "output_type": "execute_result"
    },
    {
     "data": {
      "image/png": "[encoded data removed]",
      "text/plain": [
       "<Figure size 432x288 with 1 Axes>"
      ]
     },
     "metadata": {},
     "output_type": "display_data"
    }
   ],
   "source": [
    "# A 2D scatterplot, where the x-axis is the account age, the y-axis is \n",
    "# the length of the request, and the marker color if different depending \n",
    "# on if the request was fullfilled (requester_received_pizza)\n",
    "\n",
    "# new variable to control the appearance of the legend\n",
    "df['Requester pizza received?']=df.requester_received_pizza\n",
    "\n",
    "sx = sns.scatterplot(x=df['requester_account_age_in_days_at_request'], \n",
    "                     y=df['textlen'], hue=df['Requester pizza received?'], \n",
    "                     style=df['Requester pizza received?'])\n",
    "\n",
    "# set titles and labels\n",
    "sx.set_title(\"Scatter Plot of requester account age vs length of text.\")\n",
    "sx.set_xlabel(\"Account Age (days)\")\n",
    "sx.set_ylabel(\"Text Length\")\n",
    "\n"
   ]
  },
  {
   "cell_type": "markdown",
   "metadata": {},
   "source": [
    "# What to submit on Keats\n",
    "\n",
    "For this coursework you will complete all the answer cells a shown above in this iPython Notebook.\n",
    "The header of this notebook should contain your **name** and your **student number**.\n",
    "\n",
    "Put this file, as well as any data files that have been generated as outputs for the questions above, into a **.zip** file, and upload to the indicated folder on Keats.\n",
    "\n",
    "# Point Breakdown\n",
    "\n",
    "The coursework will be marked out of 100 points, as follows:\n",
    "\n",
    "- Part 1: 30 Marks\n",
    "- Part 2: 20 Marks\n",
    "- Part 3: 20 Marks\n",
    "- Part 4: 20 Marks\n",
    "- Part 5: 10 Marks\n",
    "\n",
    "For each of the parts of the coursework marks are awarded for:\n",
    "- code that runs and performs all tasks as laid out in the assignment\n",
    "- appropriate use of functions and clear code layout\n",
    "- well commented code\n",
    "\n",
    "**This ASSIGNMENT is worth 10% of your mark for this module.**\n",
    "\n",
    "# College Policy on Late Submissions\n",
    "\n",
    "- Submissions uploaded within 24 hours of the deadline will be marked no higher than 40%\n",
    "- Submissions uploaded after 24 hours of the deadline will be marked 0, unless mitigating circumstances occur.\n",
    "- A mitigating circumstances form must be filed in the Informatics department office. See http://www.kcl.ac.uk/mitcircs for more details."
   ]
  },
  {
   "cell_type": "code",
   "execution_count": null,
   "metadata": {},
   "outputs": [],
   "source": []
  }
 ],
 "metadata": {
  "kernelspec": {
   "display_name": "Python 2",
   "language": "python",
   "name": "python2"
  },
  "language_info": {
   "codemirror_mode": {
    "name": "ipython",
    "version": 2
   },
   "file_extension": ".py",
   "mimetype": "text/x-python",
   "name": "python",
   "nbconvert_exporter": "python",
   "pygments_lexer": "ipython2",
   "version": "2.7.15"
  }
 },
 "nbformat": 4,
 "nbformat_minor": 2
}
